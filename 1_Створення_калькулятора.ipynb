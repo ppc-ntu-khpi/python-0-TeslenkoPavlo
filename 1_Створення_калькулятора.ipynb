{
  "nbformat": 4,
  "nbformat_minor": 0,
  "metadata": {
    "colab": {
      "name": "1. Створення калькулятора",
      "provenance": [],
      "toc_visible": true
    },
    "kernelspec": {
      "name": "python3",
      "display_name": "Python 3"
    },
    "language_info": {
      "name": "python"
    }
  },
  "cells": [
    {
      "cell_type": "markdown",
      "metadata": {
        "id": "rlre0OlSmOCt"
      },
      "source": [
        "# Створення калькулятора"
      ]
    },
    {
      "cell_type": "markdown",
      "metadata": {
        "id": "Vf-hl0LhzbI4"
      },
      "source": [
        "1. Запустіть на виконання наступну комірку з кодом. Введіть потрібні дані й перегляньте результат"
      ]
    },
    {
      "cell_type": "code",
      "metadata": {
        "colab": {
          "base_uri": "https://localhost:8080/"
        },
        "id": "dhrvfmbmmbjk",
        "outputId": "ea225cf9-bfae-4135-c08c-d4e04d3278f7"
      },
      "source": [
        "first_number = int(input('Введіть перше число: ')) ;\n",
        "second_number = int(input('Введіть друге число: ')) ;\n",
        "print(\"Сума чисел: \", first_number + second_number)"
      ],
      "execution_count": 7,
      "outputs": [
        {
          "output_type": "stream",
          "name": "stdout",
          "text": [
            "Введіть перше число: 12\n",
            "Введіть друге число: 16\n",
            "Сума чисел:  28\n"
          ]
        }
      ]
    },
    {
      "cell_type": "markdown",
      "metadata": {
        "id": "E2jK9sw7zsCy"
      },
      "source": [
        "2. В наступній пустій комірці спробуйте переписати код так, щоб виводились **сума, різниця, добуток та частка** введених чисел:"
      ]
    },
    {
      "cell_type": "code",
      "metadata": {
        "id": "CmzAvUWJ4RF3",
        "outputId": "d7a381d6-a824-4e47-fdeb-7169f6b5fc32",
        "colab": {
          "base_uri": "https://localhost:8080/"
        }
      },
      "source": [
        "first_number = int(input('Введіть перше число: '))\n",
        "second_number = int(input('Введіть друге число: '))\n",
        "\n",
        "print(\"Сума чисел: \", first_number + second_number)\n",
        "print(\"Різниця чисел: \", first_number - second_number)\n",
        "print(\"Добуток чисел: \", first_number * second_number)\n",
        "\n",
        "# Додав перевірку, що не можна ділити на нуль\n",
        "if second_number != 0:\n",
        "    print(\"Частка чисел: \", first_number / second_number)\n",
        "else:\n",
        "    print(\"Частка чисел: неможливо ділити на нуль\")\n"
      ],
      "execution_count": 5,
      "outputs": [
        {
          "output_type": "stream",
          "name": "stdout",
          "text": [
            "Введіть перше число: 25\n",
            "Введіть друге число: 5\n",
            "Сума чисел:  30\n",
            "Різниця чисел:  20\n",
            "Добуток чисел:  125\n",
            "Частка чисел:  5.0\n"
          ]
        }
      ]
    },
    {
      "cell_type": "markdown",
      "metadata": {
        "id": "oxuEKHxW4WJU"
      },
      "source": [
        "3. А тепер давайте порахуємо відстань між Києвом та Полтавою у милях (1 миля = 1,60934 км), знаючи що в кілометрах це 305,3 км. Підказка: для заокруглення до першого знаку після коми використовуйте конструкцію\n",
        "``` python\n",
        "round(x, 1)\n",
        "```\n",
        "Результат обчислень збережіть у змінній ```distMiles```"
      ]
    },
    {
      "cell_type": "code",
      "metadata": {
        "id": "5XsPFvNI8q9b",
        "outputId": "fb913def-0fea-4040-be9e-039fa8f3149f",
        "colab": {
          "base_uri": "https://localhost:8080/"
        }
      },
      "source": [
        "distKm = 305.3\n",
        "distMiles = distKm / 1.60934\n",
        "distMiles = round(distMiles, 1)\n",
        "\n",
        "print(\"Відстань між Києвом та Полтавою у милях:\", distMiles)\n"
      ],
      "execution_count": 3,
      "outputs": [
        {
          "output_type": "stream",
          "name": "stdout",
          "text": [
            "Відстань між Києвом та Полтавою у милях: 189.7\n"
          ]
        }
      ]
    },
    {
      "cell_type": "markdown",
      "metadata": {
        "id": "K7MSB5kX87wg"
      },
      "source": [
        "### Перевіримо чи все гаразд:\n",
        "До речі - це гарний приклад використання [Wolfram Alpha](https://www.wolframalpha.com/)!"
      ]
    },
    {
      "cell_type": "code",
      "metadata": {
        "id": "ocxz1jXhz7qH",
        "colab": {
          "base_uri": "https://localhost:8080/",
          "height": 599
        },
        "outputId": "aa93a470-d117-4bb1-d398-02a2e1322d33"
      },
      "source": [
        "!pip install wolframalpha\n",
        "app_id = '2ARWPW-8GAHYH5HQH'\n",
        "\n",
        "from wolframalpha import Client\n",
        "\n",
        "client = Client(app_id)\n",
        "res = client.query('distance between Poltava and Kiev') # in km or miles\n",
        "\n",
        "# якби результат складався б з кількох блоків даних\n",
        "#for pod in res.pods:\n",
        "#  for sub in pod.subpods:\n",
        "#    print(sub.plaintext)\n",
        "\n",
        "res = next(res.results).text\n",
        "# print(res)\n",
        "\n",
        "correct = float(res.split(' ')[0])\n",
        "if distMiles==correct:\n",
        "  print('Все правильно! Ви молодець!')\n",
        "else:\n",
        "  print(f\"Щось не те - має вийти {correct} миль, а у Вас вийшло {distMiles}!\")"
      ],
      "execution_count": 6,
      "outputs": [
        {
          "output_type": "stream",
          "name": "stdout",
          "text": [
            "Requirement already satisfied: wolframalpha in /usr/local/lib/python3.10/dist-packages (5.1.3)\n",
            "Requirement already satisfied: xmltodict in /usr/local/lib/python3.10/dist-packages (from wolframalpha) (0.13.0)\n",
            "Requirement already satisfied: more-itertools in /usr/local/lib/python3.10/dist-packages (from wolframalpha) (10.3.0)\n",
            "Requirement already satisfied: jaraco.context in /usr/local/lib/python3.10/dist-packages (from wolframalpha) (6.0.1)\n",
            "Requirement already satisfied: httpx in /usr/local/lib/python3.10/dist-packages (from wolframalpha) (0.27.2)\n",
            "Requirement already satisfied: multidict in /usr/local/lib/python3.10/dist-packages (from wolframalpha) (6.0.5)\n",
            "Requirement already satisfied: anyio in /usr/local/lib/python3.10/dist-packages (from httpx->wolframalpha) (3.7.1)\n",
            "Requirement already satisfied: certifi in /usr/local/lib/python3.10/dist-packages (from httpx->wolframalpha) (2024.8.30)\n",
            "Requirement already satisfied: httpcore==1.* in /usr/local/lib/python3.10/dist-packages (from httpx->wolframalpha) (1.0.5)\n",
            "Requirement already satisfied: idna in /usr/local/lib/python3.10/dist-packages (from httpx->wolframalpha) (3.8)\n",
            "Requirement already satisfied: sniffio in /usr/local/lib/python3.10/dist-packages (from httpx->wolframalpha) (1.3.1)\n",
            "Requirement already satisfied: h11<0.15,>=0.13 in /usr/local/lib/python3.10/dist-packages (from httpcore==1.*->httpx->wolframalpha) (0.14.0)\n",
            "Requirement already satisfied: backports.tarfile in /usr/local/lib/python3.10/dist-packages (from jaraco.context->wolframalpha) (1.2.0)\n",
            "Requirement already satisfied: exceptiongroup in /usr/local/lib/python3.10/dist-packages (from anyio->httpx->wolframalpha) (1.2.2)\n"
          ]
        },
        {
          "output_type": "error",
          "ename": "RuntimeError",
          "evalue": "asyncio.run() cannot be called from a running event loop",
          "traceback": [
            "\u001b[0;31m---------------------------------------------------------------------------\u001b[0m",
            "\u001b[0;31mRuntimeError\u001b[0m                              Traceback (most recent call last)",
            "\u001b[0;32m<ipython-input-6-4fefa2afb463>\u001b[0m in \u001b[0;36m<cell line: 14>\u001b[0;34m()\u001b[0m\n\u001b[1;32m     12\u001b[0m \u001b[0;34m\u001b[0m\u001b[0m\n\u001b[1;32m     13\u001b[0m \u001b[0;31m# Запитуємо відстань між Полтавою та Києвом\u001b[0m\u001b[0;34m\u001b[0m\u001b[0;34m\u001b[0m\u001b[0m\n\u001b[0;32m---> 14\u001b[0;31m \u001b[0mres\u001b[0m \u001b[0;34m=\u001b[0m \u001b[0mclient\u001b[0m\u001b[0;34m.\u001b[0m\u001b[0mquery\u001b[0m\u001b[0;34m(\u001b[0m\u001b[0;34m'distance between Poltava and Kiev'\u001b[0m\u001b[0;34m)\u001b[0m\u001b[0;34m\u001b[0m\u001b[0;34m\u001b[0m\u001b[0m\n\u001b[0m\u001b[1;32m     15\u001b[0m \u001b[0;34m\u001b[0m\u001b[0m\n\u001b[1;32m     16\u001b[0m \u001b[0;31m# Парсинг результату\u001b[0m\u001b[0;34m\u001b[0m\u001b[0;34m\u001b[0m\u001b[0m\n",
            "\u001b[0;32m/usr/local/lib/python3.10/dist-packages/wolframalpha/__init__.py\u001b[0m in \u001b[0;36mquery\u001b[0;34m(self, input, params, **kwargs)\u001b[0m\n\u001b[1;32m    117\u001b[0m         \u001b[0mhttps\u001b[0m\u001b[0;34m:\u001b[0m\u001b[0;34m//\u001b[0m\u001b[0mproducts\u001b[0m\u001b[0;34m.\u001b[0m\u001b[0mwolframalpha\u001b[0m\u001b[0;34m.\u001b[0m\u001b[0mcom\u001b[0m\u001b[0;34m/\u001b[0m\u001b[0mapi\u001b[0m\u001b[0;34m/\u001b[0m\u001b[0mdocumentation\u001b[0m\u001b[0;34m.\u001b[0m\u001b[0mhtml\u001b[0m\u001b[0;31m#6\u001b[0m\u001b[0;34m\u001b[0m\u001b[0;34m\u001b[0m\u001b[0m\n\u001b[1;32m    118\u001b[0m         \"\"\"\n\u001b[0;32m--> 119\u001b[0;31m         \u001b[0;32mreturn\u001b[0m \u001b[0masyncio\u001b[0m\u001b[0;34m.\u001b[0m\u001b[0mrun\u001b[0m\u001b[0;34m(\u001b[0m\u001b[0mself\u001b[0m\u001b[0;34m.\u001b[0m\u001b[0maquery\u001b[0m\u001b[0;34m(\u001b[0m\u001b[0minput\u001b[0m\u001b[0;34m,\u001b[0m \u001b[0mparams\u001b[0m\u001b[0;34m,\u001b[0m \u001b[0;34m**\u001b[0m\u001b[0mkwargs\u001b[0m\u001b[0;34m)\u001b[0m\u001b[0;34m)\u001b[0m\u001b[0;34m\u001b[0m\u001b[0;34m\u001b[0m\u001b[0m\n\u001b[0m\u001b[1;32m    120\u001b[0m \u001b[0;34m\u001b[0m\u001b[0m\n\u001b[1;32m    121\u001b[0m     \u001b[0;32masync\u001b[0m \u001b[0;32mdef\u001b[0m \u001b[0maquery\u001b[0m\u001b[0;34m(\u001b[0m\u001b[0mself\u001b[0m\u001b[0;34m,\u001b[0m \u001b[0minput\u001b[0m\u001b[0;34m,\u001b[0m \u001b[0mparams\u001b[0m\u001b[0;34m=\u001b[0m\u001b[0;34m(\u001b[0m\u001b[0;34m)\u001b[0m\u001b[0;34m,\u001b[0m \u001b[0;34m**\u001b[0m\u001b[0mkwargs\u001b[0m\u001b[0;34m)\u001b[0m\u001b[0;34m:\u001b[0m\u001b[0;34m\u001b[0m\u001b[0;34m\u001b[0m\u001b[0m\n",
            "\u001b[0;32m/usr/lib/python3.10/asyncio/runners.py\u001b[0m in \u001b[0;36mrun\u001b[0;34m(main, debug)\u001b[0m\n\u001b[1;32m     31\u001b[0m     \"\"\"\n\u001b[1;32m     32\u001b[0m     \u001b[0;32mif\u001b[0m \u001b[0mevents\u001b[0m\u001b[0;34m.\u001b[0m\u001b[0m_get_running_loop\u001b[0m\u001b[0;34m(\u001b[0m\u001b[0;34m)\u001b[0m \u001b[0;32mis\u001b[0m \u001b[0;32mnot\u001b[0m \u001b[0;32mNone\u001b[0m\u001b[0;34m:\u001b[0m\u001b[0;34m\u001b[0m\u001b[0;34m\u001b[0m\u001b[0m\n\u001b[0;32m---> 33\u001b[0;31m         raise RuntimeError(\n\u001b[0m\u001b[1;32m     34\u001b[0m             \"asyncio.run() cannot be called from a running event loop\")\n\u001b[1;32m     35\u001b[0m \u001b[0;34m\u001b[0m\u001b[0m\n",
            "\u001b[0;31mRuntimeError\u001b[0m: asyncio.run() cannot be called from a running event loop"
          ]
        }
      ]
    },
    {
      "cell_type": "markdown",
      "metadata": {
        "id": "H8d21gii0QsQ"
      },
      "source": [
        "Нагадую, що цю вправу ви також можете виконати на [Microsoft Learn](https://docs.microsoft.com/ru-ru/learn/modules/intro-to-python/7-exercise-input)."
      ]
    },
    {
      "cell_type": "markdown",
      "metadata": {
        "id": "__msdISS82eX"
      },
      "source": [
        "### Результат виконання роботи:"
      ]
    },
    {
      "cell_type": "code",
      "metadata": {
        "colab": {
          "base_uri": "https://localhost:8080/"
        },
        "id": "e4KBs6IF4j_B",
        "outputId": "6ae71a35-ba05-47fc-b423-f3bb3b7e0189"
      },
      "source": [
        "distMiles = round(305.3 / 1.60934, 1)\n",
        "print(distMiles)"
      ],
      "execution_count": 2,
      "outputs": [
        {
          "output_type": "stream",
          "name": "stdout",
          "text": [
            "189.7\n"
          ]
        }
      ]
    }
  ]
}